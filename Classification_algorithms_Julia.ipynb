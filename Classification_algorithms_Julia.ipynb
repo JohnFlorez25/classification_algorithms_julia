{
  "cells": [
    {
      "cell_type": "markdown",
      "source": [
        "# Algoritmos de Clasificación en Julia\n",
        "\n",
        "En pocas palabras, la clasificación es la tarea de predecir una etiqueta para una observación dada. Por ejemplo: se le dan ciertas descripciones físicas de un animal, y su tarea es clasificarlas como perro o gato. Aquí, clasificaremos las flores de iris.\n",
        "\n",
        "Como veremos más adelante, utilizaremos diferentes clasificadores y, al final de este cuaderno, los compararemos. Definiremos nuestra función de precisión ahora mismo para quitarla del camino. Utilizaremos una función de precisión simple que devuelve la relación del número de observaciones clasificadas correctamente al número total de predicciones"
      ],
      "metadata": {
        "nteract": {
          "transient": {
            "deleting": false
          }
        }
      }
    },
    {
      "cell_type": "code",
      "source": [
        "findaccuracy(predictedvals,groundtruthvals) = sum(predictedvals.==groundtruthvals)/length(groundtruthvals)"
      ],
      "outputs": [
        {
          "output_type": "execute_result",
          "execution_count": 1,
          "data": {
            "text/plain": "findaccuracy (generic function with 1 method)"
          },
          "metadata": {}
        }
      ],
      "execution_count": 1,
      "metadata": {
        "collapsed": true,
        "jupyter": {
          "source_hidden": false,
          "outputs_hidden": false
        },
        "nteract": {
          "transient": {
            "deleting": false
          }
        },
        "execution": {
          "iopub.status.busy": "2020-07-30T15:45:00.229Z",
          "iopub.execute_input": "2020-07-30T15:45:01.871Z",
          "iopub.status.idle": "2020-07-30T15:45:03.640Z"
        }
      }
    },
    {
      "cell_type": "code",
      "source": [
        "#Configurando nuestro gestor de paquetes\n",
        "using Pkg;"
      ],
      "outputs": [],
      "execution_count": 2,
      "metadata": {
        "collapsed": true,
        "jupyter": {
          "source_hidden": false,
          "outputs_hidden": false
        },
        "nteract": {
          "transient": {
            "deleting": false
          }
        },
        "execution": {
          "iopub.status.busy": "2020-07-30T15:45:38.002Z",
          "iopub.execute_input": "2020-07-30T15:45:38.007Z",
          "iopub.status.idle": "2020-07-30T15:45:38.074Z"
        }
      }
    },
    {
      "cell_type": "code",
      "source": [
        "#Importando los paquetes necesarios\n",
        "Pkg.add(\"GLMNet\")\n",
        "Pkg.add(\"RDatasets\")\n",
        "Pkg.add(\"MLBase\")\n",
        "Pkg.add(\"Plots\")\n",
        "Pkg.add(\"DecisionTree\")\n",
        "Pkg.add(\"Distances\")\n",
        "Pkg.add(\"NearestNeighbors\")\n",
        "Pkg.add(\"Random\")\n",
        "Pkg.add(\"LinearAlgebra\")\n",
        "Pkg.add(\"DataStructures\")\n",
        "Pkg.add(\"LIBSVM\")\n"
      ],
      "outputs": [
        {
          "output_type": "stream",
          "name": "stderr",
          "text": [
            "\u001b[32m\u001b[1m   Updating\u001b[22m\u001b[39m registry at `~/.julia/registries/General`\n",
            "\u001b[32m\u001b[1m   Updating\u001b[22m\u001b[39m git-repo `https://github.com/JuliaRegistries/General.git`\n",
            "\u001b[32m\u001b[1m  Resolving\u001b[22m\u001b[39m package versions...\n",
            "\u001b[32m\u001b[1m  Installed\u001b[22m\u001b[39m glmnet_jll ─ v5.0.0+0\n",
            "\u001b[32m\u001b[1m  Installed\u001b[22m\u001b[39m GLMNet ───── v0.5.1\n",
            "######################################################################### 100.0%-#O#- #   #                                                                    \n",
            "\u001b[32m\u001b[1m   Updating\u001b[22m\u001b[39m `~/.julia/environments/v1.4/Project.toml`\n",
            " \u001b[90m [8d5ece8b]\u001b[39m\u001b[92m + GLMNet v0.5.1\u001b[39m\n",
            "\u001b[32m\u001b[1m   Updating\u001b[22m\u001b[39m `~/.julia/environments/v1.4/Manifest.toml`\n",
            " \u001b[90m [8d5ece8b]\u001b[39m\u001b[92m + GLMNet v0.5.1\u001b[39m\n",
            " \u001b[90m [78c6b45d]\u001b[39m\u001b[92m + glmnet_jll v5.0.0+0\u001b[39m\n",
            "\u001b[32m\u001b[1m  Resolving\u001b[22m\u001b[39m package versions...\n",
            "\u001b[32m\u001b[1m  Installed\u001b[22m\u001b[39m RData ───── v0.7.1\n",
            "\u001b[32m\u001b[1m  Installed\u001b[22m\u001b[39m RDatasets ─ v0.6.9\n",
            "\u001b[32m\u001b[1m   Updating\u001b[22m\u001b[39m `~/.julia/environments/v1.4/Project.toml`\n",
            " \u001b[90m [ce6b1742]\u001b[39m\u001b[92m + RDatasets v0.6.9\u001b[39m\n",
            "\u001b[32m\u001b[1m   Updating\u001b[22m\u001b[39m `~/.julia/environments/v1.4/Manifest.toml`\n",
            " \u001b[90m [df47a6cb]\u001b[39m\u001b[92m + RData v0.7.1\u001b[39m\n",
            " \u001b[90m [ce6b1742]\u001b[39m\u001b[92m + RDatasets v0.6.9\u001b[39m\n",
            "\u001b[32m\u001b[1m  Resolving\u001b[22m\u001b[39m package versions...\n",
            "\u001b[32m\u001b[1m   Updating\u001b[22m\u001b[39m `~/.julia/environments/v1.4/Project.toml`\n",
            "\u001b[90m [no changes]\u001b[39m\n",
            "\u001b[32m\u001b[1m   Updating\u001b[22m\u001b[39m `~/.julia/environments/v1.4/Manifest.toml`\n",
            "\u001b[90m [no changes]\u001b[39m\n",
            "\u001b[32m\u001b[1m  Resolving\u001b[22m\u001b[39m package versions...\n",
            "\u001b[32m\u001b[1m   Updating\u001b[22m\u001b[39m `~/.julia/environments/v1.4/Project.toml`\n",
            "\u001b[90m [no changes]\u001b[39m\n",
            "\u001b[32m\u001b[1m   Updating\u001b[22m\u001b[39m `~/.julia/environments/v1.4/Manifest.toml`\n",
            "\u001b[90m [no changes]\u001b[39m\n",
            "\u001b[32m\u001b[1m  Resolving\u001b[22m\u001b[39m package versions...\n",
            "\u001b[32m\u001b[1m   Updating\u001b[22m\u001b[39m `~/.julia/environments/v1.4/Project.toml`\n",
            "\u001b[90m [no changes]\u001b[39m\n",
            "\u001b[32m\u001b[1m   Updating\u001b[22m\u001b[39m `~/.julia/environments/v1.4/Manifest.toml`\n",
            "\u001b[90m [no changes]\u001b[39m\n",
            "\u001b[32m\u001b[1m  Resolving\u001b[22m\u001b[39m package versions...\n",
            "\u001b[32m\u001b[1m   Updating\u001b[22m\u001b[39m `~/.julia/environments/v1.4/Project.toml`\n",
            "\u001b[90m [no changes]\u001b[39m\n",
            "\u001b[32m\u001b[1m   Updating\u001b[22m\u001b[39m `~/.julia/environments/v1.4/Manifest.toml`\n",
            "\u001b[90m [no changes]\u001b[39m\n",
            "\u001b[32m\u001b[1m  Resolving\u001b[22m\u001b[39m package versions...\n",
            "\u001b[32m\u001b[1m   Updating\u001b[22m\u001b[39m `~/.julia/environments/v1.4/Project.toml`\n",
            " \u001b[90m [b8a86587]\u001b[39m\u001b[92m + NearestNeighbors v0.4.6\u001b[39m\n",
            "\u001b[32m\u001b[1m   Updating\u001b[22m\u001b[39m `~/.julia/environments/v1.4/Manifest.toml`\n",
            "\u001b[90m [no changes]\u001b[39m\n",
            "\u001b[32m\u001b[1m  Resolving\u001b[22m\u001b[39m package versions...\n",
            "\u001b[32m\u001b[1m   Updating\u001b[22m\u001b[39m `~/.julia/environments/v1.4/Project.toml`\n",
            "\u001b[90m [no changes]\u001b[39m\n",
            "\u001b[32m\u001b[1m   Updating\u001b[22m\u001b[39m `~/.julia/environments/v1.4/Manifest.toml`\n",
            "\u001b[90m [no changes]\u001b[39m\n",
            "\u001b[32m\u001b[1m  Resolving\u001b[22m\u001b[39m package versions...\n",
            "\u001b[32m\u001b[1m   Updating\u001b[22m\u001b[39m `~/.julia/environments/v1.4/Project.toml`\n",
            "\u001b[90m [no changes]\u001b[39m\n",
            "\u001b[32m\u001b[1m   Updating\u001b[22m\u001b[39m `~/.julia/environments/v1.4/Manifest.toml`\n",
            "\u001b[90m [no changes]\u001b[39m\n",
            "\u001b[32m\u001b[1m  Resolving\u001b[22m\u001b[39m package versions...\n",
            "\u001b[32m\u001b[1m   Updating\u001b[22m\u001b[39m `~/.julia/environments/v1.4/Project.toml`\n",
            " \u001b[90m [864edb3b]\u001b[39m\u001b[92m + DataStructures v0.17.19\u001b[39m\n",
            "\u001b[32m\u001b[1m   Updating\u001b[22m\u001b[39m `~/.julia/environments/v1.4/Manifest.toml`\n",
            "\u001b[90m [no changes]\u001b[39m\n",
            "\u001b[32m\u001b[1m  Resolving\u001b[22m\u001b[39m package versions...\n",
            "\u001b[32m\u001b[1m  Installed\u001b[22m\u001b[39m LIBSVM ──── v0.4.0\n",
            "\u001b[32m\u001b[1m  Installed\u001b[22m\u001b[39m LIBLINEAR ─ v0.5.1\n",
            "\u001b[32m\u001b[1m   Updating\u001b[22m\u001b[39m `~/.julia/environments/v1.4/Project.toml`\n",
            " \u001b[90m [b1bec4e5]\u001b[39m\u001b[92m + LIBSVM v0.4.0\u001b[39m\n",
            "\u001b[32m\u001b[1m   Updating\u001b[22m\u001b[39m `~/.julia/environments/v1.4/Manifest.toml`\n",
            " \u001b[90m [2d691ee1]\u001b[39m\u001b[92m + LIBLINEAR v0.5.1\u001b[39m\n",
            " \u001b[90m [b1bec4e5]\u001b[39m\u001b[92m + LIBSVM v0.4.0\u001b[39m\n",
            "\u001b[32m\u001b[1m   Building\u001b[22m\u001b[39m LIBLINEAR → `~/.julia/packages/LIBLINEAR/yTdp5/deps/build.log`\n",
            "\u001b[32m\u001b[1m   Building\u001b[22m\u001b[39m LIBSVM ───→ `~/.julia/packages/LIBSVM/5Z99T/deps/build.log`\n"
          ]
        },
        {
          "output_type": "stream",
          "name": "stdout",
          "text": [
            "\u001b[?25l    \u001b[36m\u001b[1mFetching:\u001b[22m\u001b[39m [>                                        ]  0.0 %\r    \u001b[36m\u001b[1mFetching:\u001b[22m\u001b[39m [========================================>]  100.0 %\r\u001b[2K\u001b[?25h"
          ]
        }
      ],
      "execution_count": 3,
      "metadata": {
        "collapsed": true,
        "jupyter": {
          "source_hidden": false,
          "outputs_hidden": false
        },
        "nteract": {
          "transient": {
            "deleting": false
          }
        },
        "execution": {
          "iopub.status.busy": "2020-07-30T15:47:37.921Z",
          "iopub.execute_input": "2020-07-30T15:47:37.927Z",
          "iopub.status.idle": "2020-07-30T15:48:55.231Z"
        }
      }
    },
    {
      "cell_type": "code",
      "source": [
        "# Estableciendo el uso de los paquetes importados\n",
        "using GLMNet\n",
        "using RDatasets\n",
        "using MLBase\n",
        "using Plots\n",
        "using DecisionTree\n",
        "using Distances\n",
        "using NearestNeighbors\n",
        "using Random\n",
        "using LinearAlgebra\n",
        "using DataStructures\n",
        "using LIBSVM"
      ],
      "outputs": [
        {
          "output_type": "stream",
          "name": "stderr",
          "text": [
            "┌ Info: Precompiling GLMNet [8d5ece8b-de18-5317-b113-243142960cc6]\n",
            "└ @ Base loading.jl:1260\n",
            "┌ Info: Precompiling RDatasets [ce6b1742-4840-55fa-b093-852dadbb1d8b]\n",
            "└ @ Base loading.jl:1260\n",
            "┌ Info: Precompiling DecisionTree [7806a523-6efd-50cb-b5f6-3fa6f1930dbb]\n",
            "└ @ Base loading.jl:1260\n",
            "┌ Info: Precompiling LIBSVM [b1bec4e5-fd48-53fe-b0cb-9723c09d164b]\n",
            "└ @ Base loading.jl:1260\n"
          ]
        }
      ],
      "execution_count": 4,
      "metadata": {
        "collapsed": true,
        "jupyter": {
          "source_hidden": false,
          "outputs_hidden": false
        },
        "nteract": {
          "transient": {
            "deleting": false
          }
        },
        "execution": {
          "iopub.status.busy": "2020-07-30T15:49:40.503Z",
          "iopub.execute_input": "2020-07-30T15:49:40.511Z",
          "iopub.status.idle": "2020-07-30T15:50:34.835Z"
        }
      }
    },
    {
      "cell_type": "markdown",
      "source": [
        "# Capturando los datos de prueba -> Set de datos de iris"
      ],
      "metadata": {
        "nteract": {
          "transient": {
            "deleting": false
          }
        }
      }
    },
    {
      "cell_type": "code",
      "source": [
        "iris = dataset(\"datasets\", \"iris\")\n",
        "first(iris, 5)"
      ],
      "outputs": [
        {
          "output_type": "execute_result",
          "execution_count": 6,
          "data": {
            "text/plain": "5×5 DataFrame\n│ Row │ SepalLength │ SepalWidth │ PetalLength │ PetalWidth │ Species      │\n│     │ \u001b[90mFloat64\u001b[39m     │ \u001b[90mFloat64\u001b[39m    │ \u001b[90mFloat64\u001b[39m     │ \u001b[90mFloat64\u001b[39m    │ \u001b[90mCategorical…\u001b[39m │\n├─────┼─────────────┼────────────┼─────────────┼────────────┼──────────────┤\n│ 1   │ 5.1         │ 3.5        │ 1.4         │ 0.2        │ setosa       │\n│ 2   │ 4.9         │ 3.0        │ 1.4         │ 0.2        │ setosa       │\n│ 3   │ 4.7         │ 3.2        │ 1.3         │ 0.2        │ setosa       │\n│ 4   │ 4.6         │ 3.1        │ 1.5         │ 0.2        │ setosa       │\n│ 5   │ 5.0         │ 3.6        │ 1.4         │ 0.2        │ setosa       │",
            "text/html": "<table class=\"data-frame\"><thead><tr><th></th><th>SepalLength</th><th>SepalWidth</th><th>PetalLength</th><th>PetalWidth</th><th>Species</th></tr><tr><th></th><th>Float64</th><th>Float64</th><th>Float64</th><th>Float64</th><th>Categorical…</th></tr></thead><tbody><p>5 rows × 5 columns</p><tr><th>1</th><td>5.1</td><td>3.5</td><td>1.4</td><td>0.2</td><td>setosa</td></tr><tr><th>2</th><td>4.9</td><td>3.0</td><td>1.4</td><td>0.2</td><td>setosa</td></tr><tr><th>3</th><td>4.7</td><td>3.2</td><td>1.3</td><td>0.2</td><td>setosa</td></tr><tr><th>4</th><td>4.6</td><td>3.1</td><td>1.5</td><td>0.2</td><td>setosa</td></tr><tr><th>5</th><td>5.0</td><td>3.6</td><td>1.4</td><td>0.2</td><td>setosa</td></tr></tbody></table>",
            "text/latex": "\\begin{tabular}{r|ccccc}\n\t& SepalLength & SepalWidth & PetalLength & PetalWidth & Species\\\\\n\t\\hline\n\t& Float64 & Float64 & Float64 & Float64 & Categorical…\\\\\n\t\\hline\n\t1 & 5.1 & 3.5 & 1.4 & 0.2 & setosa \\\\\n\t2 & 4.9 & 3.0 & 1.4 & 0.2 & setosa \\\\\n\t3 & 4.7 & 3.2 & 1.3 & 0.2 & setosa \\\\\n\t4 & 4.6 & 3.1 & 1.5 & 0.2 & setosa \\\\\n\t5 & 5.0 & 3.6 & 1.4 & 0.2 & setosa \\\\\n\\end{tabular}\n"
          },
          "metadata": {}
        }
      ],
      "execution_count": 6,
      "metadata": {
        "collapsed": true,
        "jupyter": {
          "source_hidden": false,
          "outputs_hidden": false
        },
        "nteract": {
          "transient": {
            "deleting": false
          }
        },
        "execution": {
          "iopub.status.busy": "2020-07-30T15:51:56.344Z",
          "iopub.execute_input": "2020-07-30T15:51:56.351Z",
          "iopub.status.idle": "2020-07-30T15:52:00.783Z"
        }
      }
    },
    {
      "cell_type": "code",
      "source": [
        "# Separando en la variable X la Matrix del conjunto de datos separados de la variable objetivo\n",
        "X = Matrix(iris[:,1:4])\n",
        "#Capturando las etiquetas (variable objetivo que nos interesa clasificar)\n",
        "irislabels = iris[:,5]"
      ],
      "outputs": [
        {
          "output_type": "execute_result",
          "execution_count": 12,
          "data": {
            "text/plain": "150-element CategoricalArray{String,1,UInt8}:\n \"setosa\"\n \"setosa\"\n \"setosa\"\n \"setosa\"\n \"setosa\"\n \"setosa\"\n \"setosa\"\n \"setosa\"\n \"setosa\"\n \"setosa\"\n \"setosa\"\n \"setosa\"\n \"setosa\"\n ⋮\n \"virginica\"\n \"virginica\"\n \"virginica\"\n \"virginica\"\n \"virginica\"\n \"virginica\"\n \"virginica\"\n \"virginica\"\n \"virginica\"\n \"virginica\"\n \"virginica\"\n \"virginica\""
          },
          "metadata": {}
        }
      ],
      "execution_count": 12,
      "metadata": {
        "collapsed": true,
        "jupyter": {
          "source_hidden": false,
          "outputs_hidden": false
        },
        "nteract": {
          "transient": {
            "deleting": false
          }
        },
        "execution": {
          "iopub.status.busy": "2020-07-30T15:54:27.178Z",
          "iopub.execute_input": "2020-07-30T15:54:27.184Z",
          "iopub.status.idle": "2020-07-30T15:54:27.199Z"
        }
      }
    },
    {
      "cell_type": "code",
      "source": [
        "X"
      ],
      "outputs": [
        {
          "output_type": "execute_result",
          "execution_count": 14,
          "data": {
            "text/plain": "150×4 Array{Float64,2}:\n 5.1  3.5  1.4  0.2\n 4.9  3.0  1.4  0.2\n 4.7  3.2  1.3  0.2\n 4.6  3.1  1.5  0.2\n 5.0  3.6  1.4  0.2\n 5.4  3.9  1.7  0.4\n 4.6  3.4  1.4  0.3\n 5.0  3.4  1.5  0.2\n 4.4  2.9  1.4  0.2\n 4.9  3.1  1.5  0.1\n 5.4  3.7  1.5  0.2\n 4.8  3.4  1.6  0.2\n 4.8  3.0  1.4  0.1\n ⋮              \n 6.0  3.0  4.8  1.8\n 6.9  3.1  5.4  2.1\n 6.7  3.1  5.6  2.4\n 6.9  3.1  5.1  2.3\n 5.8  2.7  5.1  1.9\n 6.8  3.2  5.9  2.3\n 6.7  3.3  5.7  2.5\n 6.7  3.0  5.2  2.3\n 6.3  2.5  5.0  1.9\n 6.5  3.0  5.2  2.0\n 6.2  3.4  5.4  2.3\n 5.9  3.0  5.1  1.8"
          },
          "metadata": {}
        }
      ],
      "execution_count": 14,
      "metadata": {
        "collapsed": true,
        "jupyter": {
          "source_hidden": false,
          "outputs_hidden": false
        },
        "nteract": {
          "transient": {
            "deleting": false
          }
        },
        "execution": {
          "iopub.status.busy": "2020-07-30T15:54:51.343Z",
          "iopub.execute_input": "2020-07-30T15:54:51.349Z",
          "iopub.status.idle": "2020-07-30T15:54:52.550Z"
        }
      }
    },
    {
      "cell_type": "code",
      "source": [
        "#Convirtiendo en la variable categórica a variable numérica\n",
        "irislabelsmap = labelmap(irislabels)\n",
        "# asignando a la variable \"y\" la conversión\n",
        "y = labelencode(irislabelsmap, irislabels)"
      ],
      "outputs": [
        {
          "output_type": "execute_result",
          "execution_count": 15,
          "data": {
            "text/plain": "150-element Array{Int64,1}:\n 1\n 1\n 1\n 1\n 1\n 1\n 1\n 1\n 1\n 1\n 1\n 1\n 1\n ⋮\n 3\n 3\n 3\n 3\n 3\n 3\n 3\n 3\n 3\n 3\n 3\n 3"
          },
          "metadata": {}
        }
      ],
      "execution_count": 15,
      "metadata": {
        "collapsed": true,
        "jupyter": {
          "source_hidden": false,
          "outputs_hidden": false
        },
        "nteract": {
          "transient": {
            "deleting": false
          }
        },
        "execution": {
          "iopub.status.busy": "2020-07-30T15:56:35.016Z",
          "iopub.execute_input": "2020-07-30T15:56:35.022Z",
          "iopub.status.idle": "2020-07-30T15:56:36.265Z"
        }
      }
    },
    {
      "cell_type": "markdown",
      "source": [
        "<h4> En la clasificación, a menudo queremos utilizar algunos de los datos para ajustar un modelo, y el resto de los datos para validar (comúnmente conocidos como datos de entrenamiento y pruebas). Vamos a tener estos datos listos ahora para que podamos usarlos fácilmente en el resto de este portátil. </h4>"
      ],
      "metadata": {
        "nteract": {
          "transient": {
            "deleting": false
          }
        }
      }
    },
    {
      "cell_type": "code",
      "source": [
        "function perclass_splits(y,at)\n",
        "    uids = unique(y)\n",
        "    keepids = []\n",
        "    for ui in uids\n",
        "        curids = findall(y.==ui)\n",
        "        rowids = randsubseq(curids, at) \n",
        "        push!(keepids,rowids...)\n",
        "    end\n",
        "    return keepids\n",
        "end"
      ],
      "outputs": [
        {
          "output_type": "execute_result",
          "execution_count": 16,
          "data": {
            "text/plain": "perclass_splits (generic function with 1 method)"
          },
          "metadata": {}
        }
      ],
      "execution_count": 16,
      "metadata": {
        "collapsed": true,
        "jupyter": {
          "source_hidden": false,
          "outputs_hidden": false
        },
        "nteract": {
          "transient": {
            "deleting": false
          }
        },
        "execution": {
          "iopub.status.busy": "2020-07-30T15:58:19.487Z",
          "iopub.execute_input": "2020-07-30T15:58:19.496Z",
          "iopub.status.idle": "2020-07-30T15:58:19.792Z"
        }
      }
    },
    {
      "cell_type": "code",
      "source": [
        "?randsubseq"
      ],
      "outputs": [
        {
          "output_type": "stream",
          "name": "stdout",
          "text": [
            "search: \u001b[0m\u001b[1mr\u001b[22m\u001b[0m\u001b[1ma\u001b[22m\u001b[0m\u001b[1mn\u001b[22m\u001b[0m\u001b[1md\u001b[22m\u001b[0m\u001b[1ms\u001b[22m\u001b[0m\u001b[1mu\u001b[22m\u001b[0m\u001b[1mb\u001b[22m\u001b[0m\u001b[1ms\u001b[22m\u001b[0m\u001b[1me\u001b[22m\u001b[0m\u001b[1mq\u001b[22m \u001b[0m\u001b[1mr\u001b[22m\u001b[0m\u001b[1ma\u001b[22m\u001b[0m\u001b[1mn\u001b[22m\u001b[0m\u001b[1md\u001b[22m\u001b[0m\u001b[1ms\u001b[22m\u001b[0m\u001b[1mu\u001b[22m\u001b[0m\u001b[1mb\u001b[22m\u001b[0m\u001b[1ms\u001b[22m\u001b[0m\u001b[1me\u001b[22m\u001b[0m\u001b[1mq\u001b[22m! \u001b[0m\u001b[1mR\u001b[22m\u001b[0m\u001b[1ma\u001b[22m\u001b[0m\u001b[1mn\u001b[22m\u001b[0m\u001b[1md\u001b[22mom\u001b[0m\u001b[1mS\u001b[22m\u001b[0m\u001b[1mu\u001b[22m\u001b[0m\u001b[1mb\u001b[22m St\u001b[0m\u001b[1mr\u001b[22m\u001b[0m\u001b[1ma\u001b[22mtifiedRa\u001b[0m\u001b[1mn\u001b[22m\u001b[0m\u001b[1md\u001b[22mom\u001b[0m\u001b[1mS\u001b[22m\u001b[0m\u001b[1mu\u001b[22m\u001b[0m\u001b[1mb\u001b[22m\n",
            "\n"
          ]
        },
        {
          "output_type": "execute_result",
          "execution_count": 17,
          "data": {
            "text/plain": "\u001b[36m  randsubseq([rng=GLOBAL_RNG,] A, p) -> Vector\u001b[39m\n\n  Return a vector consisting of a random subsequence of the given array \u001b[36mA\u001b[39m,\n  where each element of \u001b[36mA\u001b[39m is included (in order) with independent probability\n  \u001b[36mp\u001b[39m. (Complexity is linear in \u001b[36mp*length(A)\u001b[39m, so this function is efficient even\n  if \u001b[36mp\u001b[39m is small and \u001b[36mA\u001b[39m is large.) Technically, this process is known as\n  \"Bernoulli sampling\" of \u001b[36mA\u001b[39m.\n\n\u001b[1m  Examples\u001b[22m\n\u001b[1m  ≡≡≡≡≡≡≡≡≡≡\u001b[22m\n\n\u001b[36m  julia> rng = MersenneTwister(1234);\u001b[39m\n\u001b[36m  \u001b[39m\n\u001b[36m  julia> randsubseq(rng, collect(1:8), 0.3)\u001b[39m\n\u001b[36m  2-element Array{Int64,1}:\u001b[39m\n\u001b[36m   7\u001b[39m\n\u001b[36m   8\u001b[39m",
            "text/markdown": "```\nrandsubseq([rng=GLOBAL_RNG,] A, p) -> Vector\n```\n\nReturn a vector consisting of a random subsequence of the given array `A`, where each element of `A` is included (in order) with independent probability `p`. (Complexity is linear in `p*length(A)`, so this function is efficient even if `p` is small and `A` is large.) Technically, this process is known as \"Bernoulli sampling\" of `A`.\n\n# Examples\n\n```jldoctest\njulia> rng = MersenneTwister(1234);\n\njulia> randsubseq(rng, collect(1:8), 0.3)\n2-element Array{Int64,1}:\n 7\n 8\n```\n",
            "text/latex": "\\begin{verbatim}\nrandsubseq([rng=GLOBAL_RNG,] A, p) -> Vector\n\\end{verbatim}\nReturn a vector consisting of a random subsequence of the given array \\texttt{A}, where each element of \\texttt{A} is included (in order) with independent probability \\texttt{p}. (Complexity is linear in \\texttt{p*length(A)}, so this function is efficient even if \\texttt{p} is small and \\texttt{A} is large.) Technically, this process is known as \"Bernoulli sampling\" of \\texttt{A}.\n\n\\section{Examples}\n\\begin{verbatim}\njulia> rng = MersenneTwister(1234);\n\njulia> randsubseq(rng, collect(1:8), 0.3)\n2-element Array{Int64,1}:\n 7\n 8\n\\end{verbatim}\n"
          },
          "metadata": {}
        }
      ],
      "execution_count": 17,
      "metadata": {
        "collapsed": true,
        "jupyter": {
          "source_hidden": false,
          "outputs_hidden": false
        },
        "nteract": {
          "transient": {
            "deleting": false
          }
        },
        "execution": {
          "iopub.status.busy": "2020-07-30T15:58:34.834Z",
          "iopub.execute_input": "2020-07-30T15:58:34.850Z",
          "iopub.status.idle": "2020-07-30T15:58:38.012Z"
        }
      }
    },
    {
      "cell_type": "code",
      "source": [
        "trainids = perclass_splits(y,0.7)\n",
        "testids = setdiff(1:length(y),trainids)"
      ],
      "outputs": [
        {
          "output_type": "execute_result",
          "execution_count": 18,
          "data": {
            "text/plain": "48-element Array{Int64,1}:\n   8\n  10\n  15\n  20\n  22\n  23\n  24\n  28\n  34\n  39\n  42\n  43\n  48\n   ⋮\n 112\n 113\n 121\n 125\n 127\n 128\n 131\n 135\n 136\n 138\n 142\n 149"
          },
          "metadata": {}
        }
      ],
      "execution_count": 18,
      "metadata": {
        "collapsed": true,
        "jupyter": {
          "source_hidden": false,
          "outputs_hidden": false
        },
        "nteract": {
          "transient": {
            "deleting": false
          }
        },
        "execution": {
          "iopub.status.busy": "2020-07-30T15:59:32.810Z",
          "iopub.execute_input": "2020-07-30T15:59:32.819Z",
          "iopub.status.idle": "2020-07-30T15:59:33.385Z"
        }
      }
    },
    {
      "cell_type": "markdown",
      "source": [
        "Necesitaremos una función más, y esa es la función que asignará clases basadas en los valores pronosticados cuando los valores predichos son continuos."
      ],
      "metadata": {
        "nteract": {
          "transient": {
            "deleting": false
          }
        }
      }
    },
    {
      "cell_type": "code",
      "source": [
        "assign_class(predictedvalue) = argmin(abs.(predictedvalue .- [1,2,3]))"
      ],
      "outputs": [
        {
          "output_type": "execute_result",
          "execution_count": 20,
          "data": {
            "text/plain": "assign_class (generic function with 1 method)"
          },
          "metadata": {}
        }
      ],
      "execution_count": 20,
      "metadata": {
        "collapsed": true,
        "jupyter": {
          "source_hidden": false,
          "outputs_hidden": false
        },
        "nteract": {
          "transient": {
            "deleting": false
          }
        },
        "execution": {
          "iopub.status.busy": "2020-07-30T16:00:30.603Z",
          "iopub.execute_input": "2020-07-30T16:00:30.611Z",
          "iopub.status.idle": "2020-07-30T16:00:30.642Z"
        }
      }
    },
    {
      "cell_type": "markdown",
      "source": [
        "# Metodo 1 : Lasso\n",
        "Es un método de análisis de regresión que realiza selección de variables y regularización para mejorar la exactitud e interpretabilidad del modelo estadístico producido por este. "
      ],
      "metadata": {
        "nteract": {
          "transient": {
            "deleting": false
          }
        }
      }
    },
    {
      "cell_type": "code",
      "source": [
        "path = glmnet(X[trainids,:], y[trainids])\n",
        "cv = glmnetcv(X[trainids,:], y[trainids])"
      ],
      "outputs": [
        {
          "output_type": "execute_result",
          "execution_count": 21,
          "data": {
            "text/plain": "Least Squares GLMNet Cross Validation\n73 models for 4 predictors in 10 folds\nBest λ 0.012 (mean loss 0.048, std 0.006)"
          },
          "metadata": {}
        }
      ],
      "execution_count": 21,
      "metadata": {
        "collapsed": true,
        "jupyter": {
          "source_hidden": false,
          "outputs_hidden": false
        },
        "nteract": {
          "transient": {
            "deleting": false
          }
        },
        "execution": {
          "iopub.status.busy": "2020-07-30T16:01:38.497Z",
          "iopub.execute_input": "2020-07-30T16:01:38.509Z",
          "iopub.status.idle": "2020-07-30T16:01:41.390Z"
        }
      }
    },
    {
      "cell_type": "code",
      "source": [
        "# Escogiendo el mejor landa para predecir con este\n",
        "path = glmnet(X[trainids,:], y[trainids])\n",
        "cv = glmnetcv(X[trainids,:], y[trainids])\n",
        "mylambda = path.lambda[argmin(cv.meanloss)]\n",
        "\n",
        "path = glmnet(X[trainids,:], y[trainids],lambda=[mylambda]);"
      ],
      "outputs": [],
      "execution_count": 22,
      "metadata": {
        "collapsed": true,
        "jupyter": {
          "source_hidden": false,
          "outputs_hidden": false
        },
        "nteract": {
          "transient": {
            "deleting": false
          }
        },
        "execution": {
          "iopub.status.busy": "2020-07-30T16:02:15.597Z",
          "iopub.execute_input": "2020-07-30T16:02:15.609Z",
          "iopub.status.idle": "2020-07-30T16:02:15.851Z"
        }
      }
    },
    {
      "cell_type": "code",
      "source": [
        "q = X[testids,:];\n",
        "predictions_lasso = GLMNet.predict(path,q)"
      ],
      "outputs": [
        {
          "output_type": "execute_result",
          "execution_count": 23,
          "data": {
            "text/plain": "48×1 Array{Float64,2}:\n 0.9702969197275075\n 0.9324056123146393\n 0.8686454010978302\n 0.998754667549737\n 1.0743802133251603\n 0.8763461987364891\n 1.2083398785963966\n 0.9608633601368686\n 0.8798117226404489\n 0.9779977173661665\n 1.1102246206854227\n 0.9591305981848888\n 0.9741473185468368\n ⋮\n 2.7322309757573473\n 2.8663477100788968\n 3.0098980039910845\n 2.8680804720308766\n 2.5815218281721837\n 2.577671429352854\n 2.842931179062294\n 2.4557547655099077\n 3.088832004620155\n 2.658338191933904\n 2.9292312414100348\n 2.945980723723963"
          },
          "metadata": {}
        }
      ],
      "execution_count": 23,
      "metadata": {
        "collapsed": true,
        "jupyter": {
          "source_hidden": false,
          "outputs_hidden": false
        },
        "nteract": {
          "transient": {
            "deleting": false
          }
        },
        "execution": {
          "iopub.status.busy": "2020-07-30T16:03:02.465Z",
          "iopub.execute_input": "2020-07-30T16:03:02.479Z",
          "iopub.status.idle": "2020-07-30T16:03:02.519Z"
        }
      }
    },
    {
      "cell_type": "markdown",
      "source": [
        "# Metodo 2 : Ridge\n",
        "El método Ridge tiende a contraer los coeficientes de regresión al incluir el término de penalización en la función objetivo: cuanto mayor sea λ, mayor penalización y, por tanto, mayor contracción de los coeficientes."
      ],
      "metadata": {
        "nteract": {
          "transient": {
            "deleting": false
          }
        }
      }
    },
    {
      "cell_type": "code",
      "source": [
        "# choose the best lambda to predict with.\n",
        "path = glmnet(X[trainids,:], y[trainids],alpha=0);\n",
        "cv = glmnetcv(X[trainids,:], y[trainids],alpha=0)\n",
        "mylambda = path.lambda[argmin(cv.meanloss)]\n",
        "path = glmnet(X[trainids,:], y[trainids],alpha=0,lambda=[mylambda]);\n",
        "q = X[testids,:];\n",
        "predictions_ridge = GLMNet.predict(path,q)\n",
        "predictions_ridge = assign_class.(predictions_ridge)\n",
        "findaccuracy(predictions_ridge,y[testids])"
      ],
      "outputs": [
        {
          "output_type": "execute_result",
          "execution_count": 24,
          "data": {
            "text/plain": "1.0"
          },
          "metadata": {}
        }
      ],
      "execution_count": 24,
      "metadata": {
        "collapsed": true,
        "jupyter": {
          "source_hidden": false,
          "outputs_hidden": false
        },
        "nteract": {
          "transient": {
            "deleting": false
          }
        },
        "execution": {
          "iopub.status.busy": "2020-07-30T16:04:34.904Z",
          "iopub.execute_input": "2020-07-30T16:04:34.922Z",
          "iopub.status.idle": "2020-07-30T16:04:37.134Z"
        }
      }
    },
    {
      "cell_type": "markdown",
      "source": [
        "# Metodo 3 : Elastic Net\n",
        "El método red elástica supera las limitaciones de la LASSO (encogimiento mínimo absoluto y operador de selección) "
      ],
      "metadata": {
        "nteract": {
          "transient": {
            "deleting": false
          }
        }
      }
    },
    {
      "cell_type": "code",
      "source": [
        "# Usaremos la misma función pero estableceremos alfa en 0.5 (es la combinación de LASSO y RIDGE). Usaremos la misma función pero estableceremos alfa en 0.5 (es la combinación de LASSO y RIDGE).\n",
        "# Elige la mejor lambda para predecir.\n",
        "path = glmnet(X[trainids,:], y[trainids],alpha=0.5);\n",
        "cv = glmnetcv(X[trainids,:], y[trainids],alpha=0.5)\n",
        "mylambda = path.lambda[argmin(cv.meanloss)]\n",
        "path = glmnet(X[trainids,:], y[trainids],alpha=0.5,lambda=[mylambda]);\n",
        "q = X[testids,:];\n",
        "predictions_EN = GLMNet.predict(path,q)\n",
        "predictions_EN = assign_class.(predictions_EN)\n",
        "findaccuracy(predictions_EN,y[testids])"
      ],
      "outputs": [
        {
          "output_type": "execute_result",
          "execution_count": 45,
          "data": {
            "text/plain": "1.0"
          },
          "metadata": {}
        }
      ],
      "execution_count": 45,
      "metadata": {
        "collapsed": true,
        "jupyter": {
          "source_hidden": false,
          "outputs_hidden": false
        },
        "nteract": {
          "transient": {
            "deleting": false
          }
        },
        "execution": {
          "iopub.status.busy": "2020-07-30T16:38:49.221Z",
          "iopub.execute_input": "2020-07-30T16:38:49.240Z",
          "iopub.status.idle": "2020-07-30T16:38:50.289Z"
        }
      }
    },
    {
      "cell_type": "markdown",
      "source": [
        "# Metodo 4 : Árboles de Decisión (Decision Trees)\n",
        "Dado un conjunto de datos se fabrican diagramas de construcciones lógicas, muy similares a los sistemas de predicción basados en reglas, que sirven para representar y categorizar una serie de condiciones que ocurren de forma sucesiva, para la resolución de un problema.\n",
        "Elementos\n",
        "\n",
        "### Elementos de un Árbol de decisión\n",
        "\n",
        "Los árboles de decisión están formados por nodos, vectores de números, flechas y etiquetas.\n",
        "\n",
        "- Cada **nodo** se puede definir como el momento en el que se ha de tomar una decisión de entre varias posibles, lo que va haciendo que a medida que aumenta el número de nodos aumente el número de posibles finales a los que puede llegar el individuo. Esto hace que un árbol con muchos nodos sea complicado de dibujar a mano y de analizar debido a la existencia de numerosos caminos que se pueden seguir.\n",
        "- Los **vectores** de números serían la solución final a la que se llega en función de las diversas posibilidades que se tienen, dan las utilidades en esa solución.\n",
        "- Las **flechas** son las uniones entre un nodo y otro y representan cada acción distinta.\n",
        "- Las **etiquetas** se encuentran en cada nodo y cada flecha y dan nombre a cada acción.\n",
        "\n",
        "### Conceptos\n",
        "\n",
        "Cuando tratemos en el desarrollo de árboles utilizaremos frecuentemente estos conceptos:\n",
        "\n",
        "- Costo. Se refiere a dos conceptos diferentes: el costo de medición para determinar el valor de una determinada propiedad (atributo) exhibida por el objeto y el costo de clasificación errónea al decidir que el objeto pertenece a la clase X cuando su clase real es Y.\n",
        "- Sobreajuste (Overfitting). Se produce cuando los datos de entrenamiento son pocos o contienen incoherencias. Al tomar un espacio de hipótesis H, se dice que una hipótesis h ∈ H sobreajusta un conjunto de entrenamiento C si existe alguna hipótesis alternativa h' ∈ H tal que h clasifica mejor que h' los elementos del conjunto de entrenamiento, pero h' clasifica mejor que h el conjunto completo de posibles instancias.\n",
        "- Poda (Prunning). La poda consiste en eliminar una rama de un nodo transformándolo en una hoja (terminal), asignándole la clasificación más común de los ejemplos de entrenamiento considerados en ese nodo.\n",
        "- La validación cruzada. Es el proceso de construir un árbol con la mayoría de los datos y luego usar la parte restante de los datos para probar la precisión del árbol.\n",
        "\n",
        "### Reglas\n",
        "\n",
        "En los árboles de decisión se tiene que cumplir una serie de reglas.\n",
        "\n",
        "1. Al comienzo del juego se da un nodo inicial que no es apuntado por ninguna flecha, es el único del juego con esta característica.\n",
        "2. El resto de nodos del juego son apuntados por una única flecha.\n",
        "3. De esto se deduce que hay un único camino para llegar del nodo inicial a cada uno de los nodos del juego. No hay varias formas de llegar a la misma solución final, las decisiones son excluyentes.\n",
        "\n",
        "En los árboles de decisiones las decisiones que se eligen son lineales, a medida que vas seleccionando entre varias opciones se van cerrando otras, lo que implica normalmente que no hay marcha atrás. En general se podría decir que las normas siguen una forma condicional: Opción 1->opción 2->opción 3->Resultado Final X Estas reglas suelen ir implícitas en el conjunto de datos a raíz del cual se construye el árbol de decisión."
      ],
      "metadata": {
        "nteract": {
          "transient": {
            "deleting": false
          }
        }
      }
    },
    {
      "cell_type": "code",
      "source": [
        "model = DecisionTreeClassifier(max_depth=2)\n",
        "DecisionTree.fit!(model, X[trainids,:], y[trainids])"
      ],
      "outputs": [
        {
          "output_type": "execute_result",
          "execution_count": 25,
          "data": {
            "text/plain": "DecisionTreeClassifier\nmax_depth:                2\nmin_samples_leaf:         1\nmin_samples_split:        2\nmin_purity_increase:      0.0\npruning_purity_threshold: 1.0\nn_subfeatures:            0\nclasses:                  [1, 2, 3]\nroot:                     Decision Tree\nLeaves: 3\nDepth:  2"
          },
          "metadata": {}
        }
      ],
      "execution_count": 25,
      "metadata": {
        "collapsed": true,
        "jupyter": {
          "source_hidden": false,
          "outputs_hidden": false
        },
        "nteract": {
          "transient": {
            "deleting": false
          }
        },
        "execution": {
          "iopub.status.busy": "2020-07-30T16:15:26.971Z",
          "iopub.execute_input": "2020-07-30T16:15:26.986Z",
          "iopub.status.idle": "2020-07-30T16:15:29.394Z"
        }
      }
    },
    {
      "cell_type": "code",
      "source": [
        "q = X[testids,:];\n",
        "predictions_DT = DecisionTree.predict(model, q)\n",
        "findaccuracy(predictions_DT,y[testids])"
      ],
      "outputs": [
        {
          "output_type": "execute_result",
          "execution_count": 26,
          "data": {
            "text/plain": "0.9375"
          },
          "metadata": {}
        }
      ],
      "execution_count": 26,
      "metadata": {
        "collapsed": true,
        "jupyter": {
          "source_hidden": false,
          "outputs_hidden": false
        },
        "nteract": {
          "transient": {
            "deleting": false
          }
        },
        "execution": {
          "iopub.status.busy": "2020-07-30T16:15:45.489Z",
          "iopub.execute_input": "2020-07-30T16:15:45.505Z",
          "iopub.status.idle": "2020-07-30T16:15:45.799Z"
        }
      }
    },
    {
      "cell_type": "code",
      "source": [
        "print_tree(model, 10)"
      ],
      "outputs": [
        {
          "output_type": "stream",
          "name": "stdout",
          "text": [
            "Feature 3, Threshold 2.45\n",
            "L-> 1 : 37/37\n",
            "R-> Feature 3, Threshold 4.75\n",
            "    L-> 2 : 29/30\n",
            "    R-> 3 : 32/35\n"
          ]
        }
      ],
      "execution_count": 29,
      "metadata": {
        "collapsed": true,
        "jupyter": {
          "source_hidden": false,
          "outputs_hidden": false
        },
        "nteract": {
          "transient": {
            "deleting": false
          }
        },
        "execution": {
          "iopub.status.busy": "2020-07-30T16:19:17.719Z",
          "iopub.execute_input": "2020-07-30T16:19:17.729Z",
          "iopub.status.idle": "2020-07-30T16:19:17.754Z"
        }
      }
    },
    {
      "cell_type": "code",
      "source": [
        "using ScikitLearn.CrossValidation: cross_val_score\n",
        "accuracy = cross_val_score(model, X[trainids,:], y[trainids], cv=3)"
      ],
      "outputs": [
        {
          "output_type": "stream",
          "name": "stderr",
          "text": [
            "┌ Info: Precompiling ScikitLearn [3646fa90-6ef7-5e7e-9f22-8aca16db6324]\n",
            "└ @ Base loading.jl:1260\n"
          ]
        },
        {
          "output_type": "execute_result",
          "execution_count": 30,
          "data": {
            "text/plain": "3-element Array{Float64,1}:\n 0.8857142857142857\n 0.8529411764705882\n 0.9696969696969697"
          },
          "metadata": {}
        }
      ],
      "execution_count": 30,
      "metadata": {
        "collapsed": true,
        "jupyter": {
          "source_hidden": false,
          "outputs_hidden": false
        },
        "nteract": {
          "transient": {
            "deleting": false
          }
        },
        "execution": {
          "iopub.status.busy": "2020-07-30T16:22:15.767Z",
          "iopub.execute_input": "2020-07-30T16:22:15.787Z",
          "iopub.status.idle": "2020-07-30T16:22:36.139Z"
        }
      }
    },
    {
      "cell_type": "markdown",
      "source": [
        "# Metodo 5 : Bosques Aleatorios (Random Forest)\n",
        "Los bosques aleatorios son una combinación de árboles predictores tal que cada árbol depende de los valores de un vector aleatorio probado independientemente y con la misma distribución para cada uno de estos. Es una modificación sustancial de bagging que construye una larga colección de árboles no correlacionados y luego los promedia."
      ],
      "metadata": {
        "nteract": {
          "transient": {
            "deleting": false
          }
        }
      }
    },
    {
      "cell_type": "code",
      "source": [
        "model = RandomForestClassifier(n_trees=20)\n",
        "DecisionTree.fit!(model, X[trainids,:], y[trainids])"
      ],
      "outputs": [
        {
          "output_type": "execute_result",
          "execution_count": 31,
          "data": {
            "text/plain": "RandomForestClassifier\nn_trees:             20\nn_subfeatures:       -1\npartial_sampling:    0.7\nmax_depth:           -1\nmin_samples_leaf:    1\nmin_samples_split:   2\nmin_purity_increase: 0.0\nclasses:             [1, 2, 3]\nensemble:            Ensemble of Decision Trees\nTrees:      20\nAvg Leaves: 6.15\nAvg Depth:  4.25"
          },
          "metadata": {}
        }
      ],
      "execution_count": 31,
      "metadata": {
        "collapsed": true,
        "jupyter": {
          "source_hidden": false,
          "outputs_hidden": false
        },
        "nteract": {
          "transient": {
            "deleting": false
          }
        },
        "execution": {
          "iopub.status.busy": "2020-07-30T16:24:50.298Z",
          "iopub.execute_input": "2020-07-30T16:24:52.763Z",
          "iopub.status.idle": "2020-07-30T16:24:54.584Z"
        }
      }
    },
    {
      "cell_type": "code",
      "source": [
        "q = X[testids,:];\n",
        "predictions_RF = DecisionTree.predict(model, q)\n",
        "findaccuracy(predictions_RF,y[testids])"
      ],
      "outputs": [
        {
          "output_type": "execute_result",
          "execution_count": 32,
          "data": {
            "text/plain": "0.9791666666666666"
          },
          "metadata": {}
        }
      ],
      "execution_count": 32,
      "metadata": {
        "collapsed": true,
        "jupyter": {
          "source_hidden": false,
          "outputs_hidden": false
        },
        "nteract": {
          "transient": {
            "deleting": false
          }
        },
        "execution": {
          "iopub.status.busy": "2020-07-30T16:25:09.138Z",
          "iopub.execute_input": "2020-07-30T16:25:09.154Z",
          "iopub.status.idle": "2020-07-30T16:25:09.471Z"
        }
      }
    },
    {
      "cell_type": "markdown",
      "source": [
        "# Metodo 6 : Nearest Neighbor method\n",
        "es un método de clasificación supervisada (Aprendizaje, estimación basada en un conjunto de entrenamiento y prototipos) que sirve para estimar la función de densidad  $F(x/Cj)$ de las predictoras $x$  por cada clase $C_{j}$.\n",
        "\n",
        "Este es un método de clasificación no paramétrico, que estima el valor de la función de densidad de probabilidad o directamente la probabilidad a posteriori de que un elemento $x$ pertenezca a la clase $C_{j}$ a partir de la información proporcionada por el conjunto de prototipos. En el proceso de aprendizaje no se hace ninguna suposición acerca de la distribución de las variables predictoras.\n",
        "\n",
        "En el reconocimiento de patrones, el algoritmo {\\displaystyle k}k-nn es usado como método de clasificación de objetos (elementos) basado en un entrenamiento mediante ejemplos cercanos en el espacio de los elementos. {\\displaystyle k}k-nn es un tipo de aprendizaje vago (lazy learning), donde la función se aproxima solo localmente y todo el cómputo es diferido a la clasificación."
      ],
      "metadata": {
        "nteract": {
          "transient": {
            "deleting": false
          }
        }
      }
    },
    {
      "cell_type": "code",
      "source": [
        "Xtrain = X[trainids,:]\n",
        "ytrain = y[trainids]\n",
        "kdtree = KDTree(Xtrain')"
      ],
      "outputs": [
        {
          "output_type": "execute_result",
          "execution_count": 33,
          "data": {
            "text/plain": "KDTree{StaticArrays.SArray{Tuple{4},Float64,1,4},Euclidean,Float64}\n  Number of points: 102\n  Dimensions: 4\n  Metric: Euclidean(0.0)\n  Reordered: true"
          },
          "metadata": {}
        }
      ],
      "execution_count": 33,
      "metadata": {
        "collapsed": true,
        "jupyter": {
          "source_hidden": false,
          "outputs_hidden": false
        },
        "nteract": {
          "transient": {
            "deleting": false
          }
        },
        "execution": {
          "iopub.status.busy": "2020-07-30T16:31:54.650Z",
          "iopub.execute_input": "2020-07-30T16:31:54.673Z",
          "iopub.status.idle": "2020-07-30T16:31:56.150Z"
        }
      }
    },
    {
      "cell_type": "code",
      "source": [
        "queries = X[testids,:]"
      ],
      "outputs": [
        {
          "output_type": "execute_result",
          "execution_count": 35,
          "data": {
            "text/plain": "48×4 Array{Float64,2}:\n 5.0  3.4  1.5  0.2\n 4.9  3.1  1.5  0.1\n 5.8  4.0  1.2  0.2\n 5.1  3.8  1.5  0.3\n 5.1  3.7  1.5  0.4\n 4.6  3.6  1.0  0.2\n 5.1  3.3  1.7  0.5\n 5.2  3.5  1.5  0.2\n 5.5  4.2  1.4  0.2\n 4.4  3.0  1.3  0.2\n 4.5  2.3  1.3  0.3\n 4.4  3.2  1.3  0.2\n 4.6  3.2  1.4  0.2\n ⋮              \n 6.4  2.7  5.3  1.9\n 6.8  3.0  5.5  2.1\n 6.9  3.2  5.7  2.3\n 6.7  3.3  5.7  2.1\n 6.2  2.8  4.8  1.8\n 6.1  3.0  4.9  1.8\n 7.4  2.8  6.1  1.9\n 6.1  2.6  5.6  1.4\n 7.7  3.0  6.1  2.3\n 6.4  3.1  5.5  1.8\n 6.9  3.1  5.1  2.3\n 6.2  3.4  5.4  2.3"
          },
          "metadata": {}
        }
      ],
      "execution_count": 35,
      "metadata": {
        "collapsed": true,
        "jupyter": {
          "source_hidden": false,
          "outputs_hidden": false
        },
        "nteract": {
          "transient": {
            "deleting": false
          }
        },
        "execution": {
          "iopub.status.busy": "2020-07-30T16:32:12.707Z",
          "iopub.execute_input": "2020-07-30T16:32:12.723Z",
          "iopub.status.idle": "2020-07-30T16:32:12.762Z"
        }
      }
    },
    {
      "cell_type": "code",
      "source": [
        "idxs, dists = knn(kdtree, queries', 5, true)"
      ],
      "outputs": [
        {
          "output_type": "execute_result",
          "execution_count": 36,
          "data": {
            "text/plain": "([[30, 37, 1, 15, 20], [26, 2, 23, 11, 19], [14, 13, 16, 9, 28], [35, 36, 5, 15, 1], [35, 15, 5, 36, 1], [7, 3, 29, 31, 5], [20, 32, 30, 24, 15], [21, 30, 1, 15, 36], [25, 13, 14, 6, 9], [8, 12, 4, 3, 34]  …  [97, 95, 98, 94, 70], [97, 95, 72, 98, 94], [85, 93, 100, 57, 91], [93, 102, 48, 85, 57], [70, 86, 88, 84, 97], [71, 57, 91, 79, 82], [70, 84, 86, 74, 81], [79, 71, 101, 87, 75], [99, 94, 75, 101, 78], [92, 78, 75, 101, 95]], [[0.09999999999999964, 0.14142135623730964, 0.17320508075688762, 0.1999999999999999, 0.22360679774997902], [0.1, 0.17320508075688784, 0.1732050807568881, 0.17320508075688815, 0.19999999999999993], [0.46904157598234253, 0.5477225575051663, 0.5567764362830022, 0.5830951894845297, 0.5916079783099616], [0.14142135623730956, 0.2449489742783178, 0.26457513110645875, 0.31622776601683783, 0.33166247903553986], [0.24494897427831772, 0.244948974278318, 0.26457513110645897, 0.2828427124746191, 0.30000000000000016], [0.45825756949558405, 0.5099019513592785, 0.5099019513592788, 0.5196152422706636, 0.5656854249492382], [0.1999999999999998, 0.26457513110645897, 0.3741657386773941, 0.38729833462074226, 0.4123105625617662], [0.14142135623730964, 0.14142135623730995, 0.14142135623730995, 0.17320508075688806, 0.22360679774997896], [0.3464101615137755, 0.3605551275463992, 0.38729833462074176, 0.4795831523312721, 0.5196152422706631], [0.14142135623730948, 0.244948974278318, 0.29999999999999954, 0.3605551275463989, 0.424264068711928]  …  [0.22360679774997935, 0.26457513110645947, 0.30000000000000016, 0.37416573867739383, 0.3999999999999997], [0.31622776601683766, 0.374165738677394, 0.3872983346207416, 0.3999999999999999, 0.4123105625617659], [0.17320508075688762, 0.2828427124746193, 0.38729833462074154, 0.4242640687119284, 0.4358898943540672], [0.14142135623730964, 0.282842712474618, 0.2999999999999998, 0.3605551275463989, 0.42426406871192796], [0.45825756949558427, 0.46904157598234325, 0.5099019513592784, 0.6782329983125273, 0.8485281374238574], [0.5385164807134505, 0.5567764362830022, 0.58309518948453, 0.7000000000000002, 0.7348469228349531], [0.6633249580710802, 0.7000000000000004, 0.7416198487095662, 0.806225774829855, 0.8944271909999164], [0.1414213562373093, 0.24494897427831802, 0.3872983346207415, 0.4358898943540675, 0.46904157598234314], [0.24494897427831822, 0.36055512754639935, 0.5099019513592786, 0.5196152422706635, 0.5477225575051662], [0.2449489742783171, 0.30000000000000016, 0.5567764362830023, 0.6164414002968974, 0.6244997998398395]])"
          },
          "metadata": {}
        }
      ],
      "execution_count": 36,
      "metadata": {
        "collapsed": true,
        "jupyter": {
          "source_hidden": false,
          "outputs_hidden": false
        },
        "nteract": {
          "transient": {
            "deleting": false
          }
        },
        "execution": {
          "iopub.status.busy": "2020-07-30T16:33:08.029Z",
          "iopub.execute_input": "2020-07-30T16:33:08.051Z",
          "iopub.status.idle": "2020-07-30T16:33:10.045Z"
        }
      }
    },
    {
      "cell_type": "code",
      "source": [
        "c = ytrain[hcat(idxs...)]\n",
        "possible_labels = map(i->counter(c[:,i]),1:size(c,2))\n",
        "predictions_NN = map(i->parse(Int,string(argmax(DataFrame(possible_labels[i])[1,:]))),1:size(c,2))\n",
        "findaccuracy(predictions_NN,y[testids])"
      ],
      "outputs": [
        {
          "output_type": "execute_result",
          "execution_count": 40,
          "data": {
            "text/plain": "0.9791666666666666"
          },
          "metadata": {}
        }
      ],
      "execution_count": 40,
      "metadata": {
        "collapsed": true,
        "jupyter": {
          "source_hidden": false,
          "outputs_hidden": false
        },
        "nteract": {
          "transient": {
            "deleting": false
          }
        },
        "execution": {
          "iopub.status.busy": "2020-07-30T16:33:58.065Z",
          "iopub.execute_input": "2020-07-30T16:33:58.085Z",
          "iopub.status.idle": "2020-07-30T16:33:58.218Z"
        }
      }
    },
    {
      "cell_type": "markdown",
      "source": [
        "# Metodo 7: Support Vector Machines\n",
        "Estos métodos están propiamente relacionados con problemas de clasificación y regresión. Dado un conjunto de ejemplos de entrenamiento (de muestras) podemos etiquetar las clases y entrenar una SVM para construir un modelo que prediga la clase de una nueva muestra. Intuitivamente, una SVM es un modelo que representa a los puntos de muestra en el espacio, separando las clases a 2 espacios lo más amplios posibles mediante un hiperplano de separación definido como el vector entre los 2 puntos, de las 2 clases, más cercanos al que se llama vector soporte. Cuando las nuevas muestras se ponen en correspondencia con dicho modelo, en función de los espacios a los que pertenezcan, pueden ser clasificadas a una o la otra clase.\n",
        "\n",
        "Más formalmente, una SVM construye un hiperplano o conjunto de hiperplanos en un espacio de dimensionalidad muy alta (o incluso infinita) que puede ser utilizado en problemas de clasificación o regresión. Una buena separación entre las clases permitirá una clasificación correcta.\n",
        "\n",
        "**Vamos a usar el paquete `LIBSVM`**\n"
      ],
      "metadata": {
        "nteract": {
          "transient": {
            "deleting": false
          }
        }
      }
    },
    {
      "cell_type": "code",
      "source": [
        "Xtrain = X[trainids,:]\n",
        "ytrain = y[trainids]"
      ],
      "outputs": [
        {
          "output_type": "execute_result",
          "execution_count": 41,
          "data": {
            "text/plain": "102-element Array{Int64,1}:\n 1\n 1\n 1\n 1\n 1\n 1\n 1\n 1\n 1\n 1\n 1\n 1\n 1\n ⋮\n 3\n 3\n 3\n 3\n 3\n 3\n 3\n 3\n 3\n 3\n 3\n 3"
          },
          "metadata": {}
        }
      ],
      "execution_count": 41,
      "metadata": {
        "collapsed": true,
        "jupyter": {
          "source_hidden": false,
          "outputs_hidden": false
        },
        "nteract": {
          "transient": {
            "deleting": false
          }
        },
        "execution": {
          "iopub.status.busy": "2020-07-30T16:35:40.670Z",
          "iopub.execute_input": "2020-07-30T16:35:40.708Z",
          "iopub.status.idle": "2020-07-30T16:35:41.228Z"
        }
      }
    },
    {
      "cell_type": "code",
      "source": [
        "model = svmtrain(Xtrain', ytrain)"
      ],
      "outputs": [
        {
          "output_type": "execute_result",
          "execution_count": 42,
          "data": {
            "text/plain": "LIBSVM.SVM{Int64}(SVC, LIBSVM.Kernel.RadialBasis, nothing, 4, 3, [1, 2, 3], Int32[1, 2, 3], Float64[], Int32[], LIBSVM.SupportVectors{Int64,Float64}(36, Int32[6, 15, 15], [1, 1, 1, 1, 1, 1, 2, 2, 2, 2  …  3, 3, 3, 3, 3, 3, 3, 3, 3, 3], [4.4 4.3 … 6.5 5.9; 2.9 3.0 … 3.0 3.0; 1.4 1.1 … 5.2 5.1; 0.2 0.1 … 2.0 1.8], Int32[8, 12, 13, 16, 18, 19, 38, 39, 41, 43  …  85, 88, 89, 91, 92, 93, 96, 100, 101, 102], LIBSVM.SVMNode[LIBSVM.SVMNode(1, 4.4), LIBSVM.SVMNode(1, 4.3), LIBSVM.SVMNode(1, 5.7), LIBSVM.SVMNode(1, 5.7), LIBSVM.SVMNode(1, 4.8), LIBSVM.SVMNode(1, 5.0), LIBSVM.SVMNode(1, 7.0), LIBSVM.SVMNode(1, 6.5), LIBSVM.SVMNode(1, 5.2), LIBSVM.SVMNode(1, 6.1)  …  LIBSVM.SVMNode(1, 6.3), LIBSVM.SVMNode(1, 7.2), LIBSVM.SVMNode(1, 7.9), LIBSVM.SVMNode(1, 6.3), LIBSVM.SVMNode(1, 6.3), LIBSVM.SVMNode(1, 6.0), LIBSVM.SVMNode(1, 5.8), LIBSVM.SVMNode(1, 6.3), LIBSVM.SVMNode(1, 6.5), LIBSVM.SVMNode(1, 5.9)]), 0.0, [0.5374523436089138 0.4734461406734792; 0.0 0.454632505083804; … ; -0.0 -1.0; -0.0 -1.0], Float64[], Float64[], [0.07144524387473691, 0.21196858390285994, 0.22818636304123605], 3, 0.25, 200.0, 0.001, 1.0, 0.5, 0.1, true, false)"
          },
          "metadata": {}
        }
      ],
      "execution_count": 42,
      "metadata": {
        "collapsed": true,
        "jupyter": {
          "source_hidden": false,
          "outputs_hidden": false
        },
        "nteract": {
          "transient": {
            "deleting": false
          }
        },
        "execution": {
          "iopub.status.busy": "2020-07-30T16:36:01.928Z",
          "iopub.execute_input": "2020-07-30T16:36:01.984Z",
          "iopub.status.idle": "2020-07-30T16:36:04.750Z"
        }
      }
    },
    {
      "cell_type": "code",
      "source": [
        "predictions_SVM, decision_values = svmpredict(model, X[testids,:]')\n",
        "findaccuracy(predictions_SVM,y[testids])"
      ],
      "outputs": [
        {
          "output_type": "execute_result",
          "execution_count": 43,
          "data": {
            "text/plain": "1.0"
          },
          "metadata": {}
        }
      ],
      "execution_count": 43,
      "metadata": {
        "collapsed": true,
        "jupyter": {
          "source_hidden": false,
          "outputs_hidden": false
        },
        "nteract": {
          "transient": {
            "deleting": false
          }
        },
        "execution": {
          "iopub.status.busy": "2020-07-30T16:37:37.093Z",
          "iopub.execute_input": "2020-07-30T16:37:37.120Z",
          "iopub.status.idle": "2020-07-30T16:37:37.497Z"
        }
      }
    },
    {
      "cell_type": "markdown",
      "source": [
        "## VAMOS A OBSERVAR TODOS LOS RESULTADOS DE LOS MÓDELOS EVALUADOS"
      ],
      "metadata": {
        "nteract": {
          "transient": {
            "deleting": false
          }
        }
      }
    },
    {
      "cell_type": "code",
      "source": [
        "overall_accuracies = zeros(7)\n",
        "methods = [\"lasso\",\"ridge\",\"EN\", \"DT\", \"RF\",\"kNN\", \"SVM\"]\n",
        "ytest = y[testids]\n",
        "overall_accuracies[1] = findaccuracy(predictions_lasso,ytest)\n",
        "overall_accuracies[2] = findaccuracy(predictions_ridge,ytest)\n",
        "overall_accuracies[3] = findaccuracy(predictions_EN,ytest)\n",
        "overall_accuracies[4] = findaccuracy(predictions_DT,ytest)\n",
        "overall_accuracies[5] = findaccuracy(predictions_RF,ytest)\n",
        "overall_accuracies[6] = findaccuracy(predictions_NN,ytest)\n",
        "overall_accuracies[7] = findaccuracy(predictions_SVM,ytest)\n",
        "hcat(methods, overall_accuracies)"
      ],
      "outputs": [
        {
          "output_type": "execute_result",
          "execution_count": 46,
          "data": {
            "text/plain": "7×2 Array{Any,2}:\n \"lasso\"  0.0\n \"ridge\"  1.0\n \"EN\"     1.0\n \"DT\"     0.9375\n \"RF\"     0.979167\n \"kNN\"    0.979167\n \"SVM\"    1.0"
          },
          "metadata": {}
        }
      ],
      "execution_count": 46,
      "metadata": {
        "collapsed": true,
        "jupyter": {
          "source_hidden": false,
          "outputs_hidden": false
        },
        "nteract": {
          "transient": {
            "deleting": false
          }
        },
        "execution": {
          "iopub.status.busy": "2020-07-30T16:38:55.026Z",
          "iopub.execute_input": "2020-07-30T16:38:55.048Z",
          "iopub.status.idle": "2020-07-30T16:38:56.973Z"
        }
      }
    }
  ],
  "metadata": {
    "kernel_info": {
      "name": "julia-1.4"
    },
    "language_info": {
      "file_extension": ".jl",
      "name": "julia",
      "mimetype": "application/julia",
      "version": "1.4.2"
    },
    "kernelspec": {
      "argv": [
        "/Applications/Julia-1.4.app/Contents/Resources/julia/bin/julia",
        "-i",
        "--startup-file=yes",
        "--color=yes",
        "--project=@.",
        "/Users/johnflorez/.julia/packages/IJulia/DrVMH/src/kernel.jl",
        "{connection_file}"
      ],
      "display_name": "Julia 1.4.2",
      "env": {},
      "interrupt_mode": "signal",
      "language": "julia",
      "name": "julia-1.4"
    },
    "nteract": {
      "version": "0.24.1"
    }
  },
  "nbformat": 4,
  "nbformat_minor": 0
}